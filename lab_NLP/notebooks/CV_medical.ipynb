{
 "cells": [
  {
   "cell_type": "markdown",
   "id": "e0179ee5",
   "metadata": {},
   "source": [
    "Import relevant libraries"
   ]
  },
  {
   "cell_type": "code",
   "execution_count": null,
   "id": "4451e44e",
   "metadata": {},
   "outputs": [],
   "source": [
    "from sklearn.metrics import precision_score, recall_score, f1_score, roc_curve, roc_auc_score\n",
    "from sklearn.datasets import load_iris\n",
    "from sklearn.model_selection import train_test_split\n",
    "from sklearn.preprocessing import label_binarize, StandardScaler\n",
    "import matplotlib.pyplot as plt\n",
    "import tensorflow as tf\n",
    "import numpy as np\n",
    "import time"
   ]
  },
  {
   "cell_type": "markdown",
   "id": "94433016",
   "metadata": {},
   "source": [
    "Import Data and Perform Preprocessing of medical data set to match MC - \n",
    "only expert label, collapse severity level, 1417 medical vs 1500 non medical queries"
   ]
  },
  {
   "cell_type": "code",
   "execution_count": null,
   "id": "f937bdfd",
   "metadata": {},
   "outputs": [],
   "source": [
    "from src.preprocessing import load_data, preprocess, save_processed\n",
    "\n",
    "df = load_data(\"medicheck-expert.csv\")\n",
    "df_clean = preprocess(df)\n",
    "save_processed(df_clean, \"medi_pos_severity_removed.csv\")\n"
   ]
  }
 ],
 "metadata": {
  "language_info": {
   "name": "python"
  }
 },
 "nbformat": 4,
 "nbformat_minor": 5
}
