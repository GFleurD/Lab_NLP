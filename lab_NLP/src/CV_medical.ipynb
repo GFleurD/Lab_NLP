Number of misclustered points: 20

Label: 0.0, Cluster: 1
Sentence: "First psychologist appointment is in two days. Any advice?"
---
Label: 0.0, Cluster: 1
Sentence: "I stand and talk on the phone all day in a medical setting. My neck is beginning to really bother me. Does anyone have any recommendations for a small bluetooth headset?"
---
Label: 0.0, Cluster: 1
Sentence: "ELI5: why does my back itch like crazy after a shower?"
---
Label: 0.0, Cluster: 1
Sentence: "If ingesting salt causes dehydration and dehydration causes low blood pressure, why are people with high blood pressure told to avoid sodium? Wouldn't it lower their blood pressure?"
---
Label: 1.0, Cluster: 0
Sentence: What does neoplasm of uncertain behavior mean?
---
Label: 0.0, Cluster: 1
Sentence: "LPT request!! Any advice on annoying deodorant stains anyone??"
---
Label: 0.0, Cluster: 1
Sentence: "[neuroscience] (and also medicine) Has anyone ever woken up from actual \"Brain Death\"?"
---
Label: 0.0, Cluster: 1
Sentence: "How to gain weight as an ectomorph"
---
Label: 0.0, Cluster: 1
Sentence: "Is it safe or effective to do home teeth whitening?? has anyone had any experience with this?"
---
Label: 0.0, Cluster: 1
Sentence: "How long will my natural hair color return after using Manic Panic?"
---
Label: 1.0, Cluster: 0
Sentence: [24 male] How to stop tremer?
---
Label: 1.0, Cluster: 0
Sentence: Reddit, I need your help making a decision.
---
Label: 0.0, Cluster: 1
Sentence: "Transitioning off of breast milk/formula at 12 months... How?"
---
Label: 0.0, Cluster: 1
Sentence: "Why does my scalp get itchy when I eat spicy foods?"
---
Label: 0.0, Cluster: 1
Sentence: "Has anyone been to a sex therapist? Did it help? I'm a woman who has only orgasmed in her sleep - masturbation or sex does not make me climax. It's ....frustrating."
---
Label: 1.0, Cluster: 0
Sentence: Why should heating packs only be applied for a maximum of 30 minutes?
---
Label: 1.0, Cluster: 0
Sentence: Getting evaluated for ADD soon, what should I expect?
---
Label: 0.0, Cluster: 1
Sentence: "Random question - what's this little piece of plastic just above the nut?"
---
Label: 0.0, Cluster: 1
Sentence: "ELI5: Why do you lose memory during a concussion?"
---
Label: 0.0, Cluster: 1
Sentence: "Why don't people trying to make money off referral programs just refer themselves using a proxy and different email?"
---
